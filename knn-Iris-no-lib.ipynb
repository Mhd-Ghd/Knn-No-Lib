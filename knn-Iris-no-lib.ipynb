{
  "nbformat": 4,
  "nbformat_minor": 0,
  "metadata": {
    "colab": {
      "name": "Copy of Untitled0.ipynb",
      "provenance": [],
      "collapsed_sections": [],
      "authorship_tag": "ABX9TyMR2vp6gEC4VG4UC7dlawqv",
      "include_colab_link": true
    },
    "kernelspec": {
      "name": "python3",
      "display_name": "Python 3"
    },
    "language_info": {
      "name": "python"
    }
  },
  "cells": [
    {
      "cell_type": "markdown",
      "metadata": {
        "id": "view-in-github",
        "colab_type": "text"
      },
      "source": [
        "<a href=\"https://colab.research.google.com/github/Mhd-Ghd/Knn-No-Lib/blob/master/knn-Iris-no-lib.ipynb\" target=\"_parent\"><img src=\"https://colab.research.google.com/assets/colab-badge.svg\" alt=\"Open In Colab\"/></a>"
      ]
    },
    {
      "cell_type": "code",
      "metadata": {
        "id": "M1f6eVQCBdqn"
      },
      "source": [
        "import pandas as pd \n",
        "import numpy as np\n",
        "import math\n"
      ],
      "execution_count": 465,
      "outputs": []
    },
    {
      "cell_type": "markdown",
      "metadata": {
        "id": "m3d9rv8CUHrG"
      },
      "source": [
        "## **Importing the dataset**"
      ]
    },
    {
      "cell_type": "code",
      "metadata": {
        "id": "bdKte90tE1kv"
      },
      "source": [
        "data = pd.read_csv(\"Iris.csv\")\n",
        "dataset = data.iloc[:,1:].values\n",
        "x= data.iloc[:,1:-1].values\n",
        "y=data.iloc[:,-1].values\n"
      ],
      "execution_count": 466,
      "outputs": []
    },
    {
      "cell_type": "markdown",
      "metadata": {
        "id": "XZanM8V_UhPs"
      },
      "source": [
        "##**Label Encoding**"
      ]
    },
    {
      "cell_type": "code",
      "metadata": {
        "id": "jdNIQ-ypFomj"
      },
      "source": [
        "EncodedLabels={\"Iris-setosa\":1,\"Iris-versicolor\":2,\"Iris-virginica\":3}\n",
        "DecodedLabels={1:\"Iris-setosa\",2:\"Iris-versicolor\",3:\"Iris-virginica\"}\n",
        "for i in range(len(y)):\n",
        "  y[i]=EncodedLabels[y[i]]   \n",
        "\n"
      ],
      "execution_count": 467,
      "outputs": []
    },
    {
      "cell_type": "markdown",
      "metadata": {
        "id": "Os89B-nAwvUf"
      },
      "source": [
        "#**Spliting the Dataset**"
      ]
    },
    {
      "cell_type": "code",
      "metadata": {
        "id": "-IZ5iyVibJdT"
      },
      "source": [
        "np.random.shuffle(dataset)\n",
        "dataset\n",
        "#concatenate the training set\n",
        "x2=dataset[:,:-1]\n",
        "y2=dataset[:,-1]\n",
        "\n",
        "\n",
        "\n",
        "\n",
        "EncodedLabels={\"Iris-setosa\":1,\"Iris-versicolor\":2,\"Iris-virginica\":3}\n",
        "DecodedLabels={1:\"Iris-setosa\",2:\"Iris-versicolor\",3:\"Iris-virginica\"}\n",
        "for i in range(len(y2)):\n",
        "  y2[i]=EncodedLabels[y2[i]]   \n",
        "  \n",
        "\n",
        "\n",
        "\n",
        "#===============================[first 5-fold sets]===================================\n",
        "#xtrain\n",
        "x_train1=x2[0:120,:]\n",
        "\n",
        "#ytrain\n",
        "y_train1=y2[0:120]\n",
        "\n",
        "#concatenate the test set\n",
        "#xtest\n",
        "x_test1=x2[120:150,:]\n",
        "#ytest\n",
        "y_test1=y2[120:150]\n",
        "\n",
        "\n",
        "#==============================[second 5-fold sets]===================================\n",
        "#xtrain\n",
        "x_train2=x2[30:150,:]\n",
        "\n",
        "#ytrain\n",
        "y_train2=y2[30:150]\n",
        "\n",
        "#concatenate the test set\n",
        "#xtest\n",
        "x_test2=x2[0:30,:]\n",
        "#ytest\n",
        "y_test2=y2[0:30]\n",
        "\n",
        "\n",
        "#==============================[third 5-fold sets]===================================\n",
        "#xtrain\n",
        "xt1=x2[0:30,:]\n",
        "xt2=x2[60:150,:]\n",
        "x_train3=np.concatenate((xt1,xt2))\n",
        "\n",
        "\n",
        "\n",
        "#ytrain\n",
        "yt1=y2[0:30]\n",
        "yt2=y2[60:150]\n",
        "y_train3=np.concatenate((yt1,yt2))\n",
        "\n",
        "\n",
        "#concatenate the test set\n",
        "#xtest\n",
        "x_test3=x2[30:60,:]\n",
        "#ytest\n",
        "y_test3=y2[30:60]\n",
        "\n",
        "#==============================[fourth 5-fold sets]===================================\n",
        "#xtrain\n",
        "xt1=x2[0:60,:]\n",
        "xt2=x2[90:150,:]\n",
        "x_train4=np.concatenate((xt1,xt2))\n",
        "\n",
        "\n",
        "\n",
        "#ytrain\n",
        "yt1=y2[0:60]\n",
        "yt2=y2[90:150]\n",
        "y_train4=np.concatenate((yt1,yt2))\n",
        "\n",
        "\n",
        "#concatenate the test set\n",
        "#xtest\n",
        "x_test4=x2[60:90,:]\n",
        "#ytest\n",
        "y_test4=y2[60:90]\n",
        "\n",
        "#==============================[fourth 5-fold sets]===================================\n",
        "#xtrain\n",
        "xt1=x2[0:90,:]\n",
        "xt2=x2[120:150,:]\n",
        "x_train5=np.concatenate((xt1,xt2))\n",
        "\n",
        "\n",
        "\n",
        "#ytrain\n",
        "yt1=y2[0:90]\n",
        "yt2=y2[120:150]\n",
        "y_train5=np.concatenate((yt1,yt2))\n",
        "\n",
        "\n",
        "#concatenate the test set\n",
        "#xtest\n",
        "x_test5=x2[90:120,:]\n",
        "#ytest\n",
        "y_test5=y2[90:120]\n",
        "\n",
        "\n",
        "\n"
      ],
      "execution_count": 468,
      "outputs": []
    },
    {
      "cell_type": "code",
      "metadata": {
        "id": "ZvVSEsxZwvBo"
      },
      "source": [
        "#concatenate the training set\n",
        "#xtrain\n",
        "xt1=x[0:40,:]\n",
        "xt2=x[50:90,:]\n",
        "xt3=x[100:140,:]\n",
        "x_train=np.concatenate((xt1,xt2,xt3))\n",
        "#ytrain\n",
        "yt1=y[0:40]\n",
        "yt2=y[50:90]\n",
        "yt3=y[100:140]\n",
        "y_train=np.concatenate((yt1,yt2,yt3))\n",
        "\n",
        "#concatenate the test set\n",
        "#xtest\n",
        "xr1=x[40:50,:]\n",
        "xr2=x[90:100,:]\n",
        "xr3=x[140:150,:]\n",
        "x_test=np.concatenate((xr1,xr2,xr3))\n",
        "#ytest\n",
        "yr1=y[40:50]\n",
        "yr2=y[90:100]\n",
        "yr3=y[140:150]\n",
        "y_test=np.concatenate((yr1,yr2,yr3))\n",
        "\n"
      ],
      "execution_count": 469,
      "outputs": []
    },
    {
      "cell_type": "code",
      "metadata": {
        "id": "o7srwpYfZc4q"
      },
      "source": [
        "\n",
        "\n",
        "def NearestNieghbour(xtrain,ytrain,xtest,distanceType):\n",
        "  minDist=math.inf\n",
        "  ind=-1\n",
        "  for i in range(len(xtrain)):\n",
        "    currentDist = calcDist(xtrain[i],xtest,distanceType)\n",
        "    if currentDist < minDist:\n",
        "      minDist = currentDist\n",
        "      ind = i\n",
        "  return ytrain[ind]"
      ],
      "execution_count": 470,
      "outputs": []
    },
    {
      "cell_type": "code",
      "metadata": {
        "id": "YcIEjjsaBmDp"
      },
      "source": [
        "\n",
        "\n",
        "def NearestNieghbour2(xtrain,ytrain,xtest,k,distanceType):\n",
        "  distances={}\n",
        "\n",
        "  for i in range(len(xtrain)):\n",
        "    currentDist = calcDist(xtrain[i],xtest,distanceType)\n",
        "    distances[currentDist]=i\n",
        "  sortedDist = sorted(distances)\n",
        "  countsA=0\n",
        "  countsB=0\n",
        "  countsC=0\n",
        "  \n",
        "  for i in range(k):\n",
        "    ind = distances[sortedDist[i]]\n",
        "    if ytrain[ind] == 1:\n",
        "      countsA +=1\n",
        "    elif ytrain[ind] == 2:\n",
        "      countsB +=1\n",
        "    elif ytrain[ind] == 3:\n",
        "      countsC +=1\n",
        "  \n",
        "  maxCounts = max(countsA,countsB,countsC)\n",
        "  if maxCounts == countsA:\n",
        "    return 1\n",
        "  elif maxCounts == countsB:\n",
        "    return 2\n",
        "  elif maxCounts == countsC:\n",
        "    return 3\n"
      ],
      "execution_count": 471,
      "outputs": []
    },
    {
      "cell_type": "code",
      "metadata": {
        "id": "GajYM3WVbTTU"
      },
      "source": [
        "\n",
        "def calcDist(x1,x2,distanceType):\n",
        "\n",
        "  if (distanceType == 1):\n",
        "    #L1(SAD): sum of absulte diffrences\n",
        "    distance = sum(abs(np.subtract(x1,x2)))  \n",
        "\n",
        "\n",
        "  else:\n",
        "    #L2(SSD): sum of square diffrences\n",
        "    distance = sum(np.square(np.subtract(x1,x2)))\n",
        "  \n",
        "    \n",
        "  return distance\n",
        "\n",
        "\n"
      ],
      "execution_count": 472,
      "outputs": []
    },
    {
      "cell_type": "markdown",
      "metadata": {
        "id": "83JEd6Tc3m_4"
      },
      "source": [
        "# **Prediction the test set result**"
      ]
    },
    {
      "cell_type": "code",
      "metadata": {
        "id": "NpxLhNfX_KJk"
      },
      "source": [
        "\n",
        "def calcAccuracy(y_predict,y_test):\n",
        "  correctness = np.subtract(y_predict,y_test)\n",
        "  correct=0\n",
        "  for i in correctness:\n",
        "    if i == 0:\n",
        "      correct+=1\n",
        "\n",
        "  accuracy=correct/len(ypredict)*100\n",
        "  return accuracy"
      ],
      "execution_count": 473,
      "outputs": []
    },
    {
      "cell_type": "code",
      "metadata": {
        "colab": {
          "base_uri": "https://localhost:8080/"
        },
        "id": "scZUw_RgpUKf",
        "outputId": "8f062529-7621-4838-ca93-77c84d570d9f"
      },
      "source": [
        "K=7\n",
        "L=1\n",
        "#==============================[first 5-fold sets]===================================\n",
        "ypredict=[]\n",
        "for i in range(len(x_test)):\n",
        "  EncodedLabel = NearestNieghbour2(x_train1,y_train1,x_test1[i],K,L)\n",
        "  ypredict.append(EncodedLabel)\n",
        "acc1 = calcAccuracy(ypredict,y_test1)\n",
        "\n",
        "#==============================[second 5-fold sets]===================================\n",
        "ypredict=[]\n",
        "for i in range(len(x_test)):\n",
        "  EncodedLabel = NearestNieghbour2(x_train2,y_train2,x_test2[i],K,L)\n",
        "  ypredict.append(EncodedLabel)\n",
        "acc2 = calcAccuracy(ypredict,y_test2)\n",
        "\n",
        "#==============================[third 5-fold sets]===================================\n",
        "ypredict=[]\n",
        "for i in range(len(x_test)):\n",
        "  EncodedLabel = NearestNieghbour2(x_train3,y_train3,x_test3[i],K,L)\n",
        "  ypredict.append(EncodedLabel)\n",
        "acc3 = calcAccuracy(ypredict,y_test3)\n",
        "\n",
        "#==============================[fourth 5-fold sets]===================================\n",
        "ypredict=[]\n",
        "for i in range(len(x_test)):\n",
        "  EncodedLabel = NearestNieghbour2(x_train4,y_train4,x_test4[i],K,L)\n",
        "  ypredict.append(EncodedLabel)\n",
        "acc4 = calcAccuracy(ypredict,y_test4)\n",
        "\n",
        "#==============================[fifth 5-fold sets]===================================\n",
        "ypredict=[]\n",
        "for i in range(len(x_test)):\n",
        "  EncodedLabel = NearestNieghbour2(x_train5,y_train5,x_test5[i],K,L)\n",
        "  ypredict.append(EncodedLabel)\n",
        "acc5 = calcAccuracy(ypredict,y_test5)\n",
        "\n",
        "acc = (acc1+acc2+acc3+acc4+acc5)/5\n",
        "print(acc)\n",
        "\n"
      ],
      "execution_count": 474,
      "outputs": [
        {
          "output_type": "stream",
          "name": "stdout",
          "text": [
            "95.33333333333333\n"
          ]
        }
      ]
    },
    {
      "cell_type": "markdown",
      "metadata": {
        "id": "Tmvp0Uhe_Dxp"
      },
      "source": [
        "# **Creating the confusion matrix**"
      ]
    },
    {
      "cell_type": "markdown",
      "metadata": {
        "id": "oxm4wLG0CggG"
      },
      "source": [
        "# **Generliaing for K more 1 or more**"
      ]
    },
    {
      "cell_type": "code",
      "metadata": {
        "id": "B6faeu03FAaM"
      },
      "source": [
        ""
      ],
      "execution_count": 474,
      "outputs": []
    }
  ]
}